{
 "cells": [
  {
   "cell_type": "markdown",
   "metadata": {},
   "source": [
    "# Prosper Loan Data Analysis\n",
    "### by Ayush\n",
    "## Preliminary Wrangling\n",
    "\n",
    "This document is to perform preliminary on a comprehensive loan dataset that includes loan accounts current and completed along with the credit history details"
   ]
  },
  {
   "cell_type": "code",
   "execution_count": 79,
   "metadata": {},
   "outputs": [],
   "source": [
    "# import all packages and set plots to be embedded inline\n",
    "import numpy as np\n",
    "import pandas as pd\n",
    "import matplotlib.pyplot as plt\n",
    "import seaborn as sb\n",
    "\n",
    "%matplotlib inline"
   ]
  },
  {
   "cell_type": "markdown",
   "metadata": {},
   "source": [
    "> Load in your dataset and describe its properties through the questions below.\n",
    "Try and motivate your exploration goals through this section."
   ]
  },
  {
   "cell_type": "code",
   "execution_count": 80,
   "metadata": {},
   "outputs": [
    {
     "name": "stdout",
     "output_type": "stream",
     "text": [
      "(113937, 81)\n",
      "ListingKey                              object\n",
      "ListingNumber                            int64\n",
      "ListingCreationDate                     object\n",
      "CreditGrade                             object\n",
      "Term                                     int64\n",
      "LoanStatus                              object\n",
      "ClosedDate                              object\n",
      "BorrowerAPR                            float64\n",
      "BorrowerRate                           float64\n",
      "LenderYield                            float64\n",
      "EstimatedEffectiveYield                float64\n",
      "EstimatedLoss                          float64\n",
      "EstimatedReturn                        float64\n",
      "ProsperRating (numeric)                float64\n",
      "ProsperRating (Alpha)                   object\n",
      "ProsperScore                           float64\n",
      "ListingCategory (numeric)                int64\n",
      "BorrowerState                           object\n",
      "Occupation                              object\n",
      "EmploymentStatus                        object\n",
      "EmploymentStatusDuration               float64\n",
      "IsBorrowerHomeowner                       bool\n",
      "CurrentlyInGroup                          bool\n",
      "GroupKey                                object\n",
      "DateCreditPulled                        object\n",
      "CreditScoreRangeLower                  float64\n",
      "CreditScoreRangeUpper                  float64\n",
      "FirstRecordedCreditLine                 object\n",
      "CurrentCreditLines                     float64\n",
      "OpenCreditLines                        float64\n",
      "                                        ...   \n",
      "TotalProsperLoans                      float64\n",
      "TotalProsperPaymentsBilled             float64\n",
      "OnTimeProsperPayments                  float64\n",
      "ProsperPaymentsLessThanOneMonthLate    float64\n",
      "ProsperPaymentsOneMonthPlusLate        float64\n",
      "ProsperPrincipalBorrowed               float64\n",
      "ProsperPrincipalOutstanding            float64\n",
      "ScorexChangeAtTimeOfListing            float64\n",
      "LoanCurrentDaysDelinquent                int64\n",
      "LoanFirstDefaultedCycleNumber          float64\n",
      "LoanMonthsSinceOrigination               int64\n",
      "LoanNumber                               int64\n",
      "LoanOriginalAmount                       int64\n",
      "LoanOriginationDate                     object\n",
      "LoanOriginationQuarter                  object\n",
      "MemberKey                               object\n",
      "MonthlyLoanPayment                     float64\n",
      "LP_CustomerPayments                    float64\n",
      "LP_CustomerPrincipalPayments           float64\n",
      "LP_InterestandFees                     float64\n",
      "LP_ServiceFees                         float64\n",
      "LP_CollectionFees                      float64\n",
      "LP_GrossPrincipalLoss                  float64\n",
      "LP_NetPrincipalLoss                    float64\n",
      "LP_NonPrincipalRecoverypayments        float64\n",
      "PercentFunded                          float64\n",
      "Recommendations                          int64\n",
      "InvestmentFromFriendsCount               int64\n",
      "InvestmentFromFriendsAmount            float64\n",
      "Investors                                int64\n",
      "Length: 81, dtype: object\n"
     ]
    },
    {
     "data": {
      "text/html": [
       "<div>\n",
       "<style scoped>\n",
       "    .dataframe tbody tr th:only-of-type {\n",
       "        vertical-align: middle;\n",
       "    }\n",
       "\n",
       "    .dataframe tbody tr th {\n",
       "        vertical-align: top;\n",
       "    }\n",
       "\n",
       "    .dataframe thead th {\n",
       "        text-align: right;\n",
       "    }\n",
       "</style>\n",
       "<table border=\"1\" class=\"dataframe\">\n",
       "  <thead>\n",
       "    <tr style=\"text-align: right;\">\n",
       "      <th></th>\n",
       "      <th>ListingKey</th>\n",
       "      <th>ListingNumber</th>\n",
       "      <th>ListingCreationDate</th>\n",
       "      <th>CreditGrade</th>\n",
       "      <th>Term</th>\n",
       "      <th>LoanStatus</th>\n",
       "      <th>ClosedDate</th>\n",
       "      <th>BorrowerAPR</th>\n",
       "      <th>BorrowerRate</th>\n",
       "      <th>LenderYield</th>\n",
       "      <th>...</th>\n",
       "      <th>LP_ServiceFees</th>\n",
       "      <th>LP_CollectionFees</th>\n",
       "      <th>LP_GrossPrincipalLoss</th>\n",
       "      <th>LP_NetPrincipalLoss</th>\n",
       "      <th>LP_NonPrincipalRecoverypayments</th>\n",
       "      <th>PercentFunded</th>\n",
       "      <th>Recommendations</th>\n",
       "      <th>InvestmentFromFriendsCount</th>\n",
       "      <th>InvestmentFromFriendsAmount</th>\n",
       "      <th>Investors</th>\n",
       "    </tr>\n",
       "  </thead>\n",
       "  <tbody>\n",
       "    <tr>\n",
       "      <th>0</th>\n",
       "      <td>1021339766868145413AB3B</td>\n",
       "      <td>193129</td>\n",
       "      <td>2007-08-26 19:09:29.263000000</td>\n",
       "      <td>C</td>\n",
       "      <td>36</td>\n",
       "      <td>Completed</td>\n",
       "      <td>2009-08-14 00:00:00</td>\n",
       "      <td>0.16516</td>\n",
       "      <td>0.1580</td>\n",
       "      <td>0.1380</td>\n",
       "      <td>...</td>\n",
       "      <td>-133.18</td>\n",
       "      <td>0.0</td>\n",
       "      <td>0.0</td>\n",
       "      <td>0.0</td>\n",
       "      <td>0.0</td>\n",
       "      <td>1.0</td>\n",
       "      <td>0</td>\n",
       "      <td>0</td>\n",
       "      <td>0.0</td>\n",
       "      <td>258</td>\n",
       "    </tr>\n",
       "    <tr>\n",
       "      <th>1</th>\n",
       "      <td>10273602499503308B223C1</td>\n",
       "      <td>1209647</td>\n",
       "      <td>2014-02-27 08:28:07.900000000</td>\n",
       "      <td>NaN</td>\n",
       "      <td>36</td>\n",
       "      <td>Current</td>\n",
       "      <td>NaN</td>\n",
       "      <td>0.12016</td>\n",
       "      <td>0.0920</td>\n",
       "      <td>0.0820</td>\n",
       "      <td>...</td>\n",
       "      <td>0.00</td>\n",
       "      <td>0.0</td>\n",
       "      <td>0.0</td>\n",
       "      <td>0.0</td>\n",
       "      <td>0.0</td>\n",
       "      <td>1.0</td>\n",
       "      <td>0</td>\n",
       "      <td>0</td>\n",
       "      <td>0.0</td>\n",
       "      <td>1</td>\n",
       "    </tr>\n",
       "    <tr>\n",
       "      <th>2</th>\n",
       "      <td>0EE9337825851032864889A</td>\n",
       "      <td>81716</td>\n",
       "      <td>2007-01-05 15:00:47.090000000</td>\n",
       "      <td>HR</td>\n",
       "      <td>36</td>\n",
       "      <td>Completed</td>\n",
       "      <td>2009-12-17 00:00:00</td>\n",
       "      <td>0.28269</td>\n",
       "      <td>0.2750</td>\n",
       "      <td>0.2400</td>\n",
       "      <td>...</td>\n",
       "      <td>-24.20</td>\n",
       "      <td>0.0</td>\n",
       "      <td>0.0</td>\n",
       "      <td>0.0</td>\n",
       "      <td>0.0</td>\n",
       "      <td>1.0</td>\n",
       "      <td>0</td>\n",
       "      <td>0</td>\n",
       "      <td>0.0</td>\n",
       "      <td>41</td>\n",
       "    </tr>\n",
       "    <tr>\n",
       "      <th>3</th>\n",
       "      <td>0EF5356002482715299901A</td>\n",
       "      <td>658116</td>\n",
       "      <td>2012-10-22 11:02:35.010000000</td>\n",
       "      <td>NaN</td>\n",
       "      <td>36</td>\n",
       "      <td>Current</td>\n",
       "      <td>NaN</td>\n",
       "      <td>0.12528</td>\n",
       "      <td>0.0974</td>\n",
       "      <td>0.0874</td>\n",
       "      <td>...</td>\n",
       "      <td>-108.01</td>\n",
       "      <td>0.0</td>\n",
       "      <td>0.0</td>\n",
       "      <td>0.0</td>\n",
       "      <td>0.0</td>\n",
       "      <td>1.0</td>\n",
       "      <td>0</td>\n",
       "      <td>0</td>\n",
       "      <td>0.0</td>\n",
       "      <td>158</td>\n",
       "    </tr>\n",
       "    <tr>\n",
       "      <th>4</th>\n",
       "      <td>0F023589499656230C5E3E2</td>\n",
       "      <td>909464</td>\n",
       "      <td>2013-09-14 18:38:39.097000000</td>\n",
       "      <td>NaN</td>\n",
       "      <td>36</td>\n",
       "      <td>Current</td>\n",
       "      <td>NaN</td>\n",
       "      <td>0.24614</td>\n",
       "      <td>0.2085</td>\n",
       "      <td>0.1985</td>\n",
       "      <td>...</td>\n",
       "      <td>-60.27</td>\n",
       "      <td>0.0</td>\n",
       "      <td>0.0</td>\n",
       "      <td>0.0</td>\n",
       "      <td>0.0</td>\n",
       "      <td>1.0</td>\n",
       "      <td>0</td>\n",
       "      <td>0</td>\n",
       "      <td>0.0</td>\n",
       "      <td>20</td>\n",
       "    </tr>\n",
       "    <tr>\n",
       "      <th>5</th>\n",
       "      <td>0F05359734824199381F61D</td>\n",
       "      <td>1074836</td>\n",
       "      <td>2013-12-14 08:26:37.093000000</td>\n",
       "      <td>NaN</td>\n",
       "      <td>60</td>\n",
       "      <td>Current</td>\n",
       "      <td>NaN</td>\n",
       "      <td>0.15425</td>\n",
       "      <td>0.1314</td>\n",
       "      <td>0.1214</td>\n",
       "      <td>...</td>\n",
       "      <td>-25.33</td>\n",
       "      <td>0.0</td>\n",
       "      <td>0.0</td>\n",
       "      <td>0.0</td>\n",
       "      <td>0.0</td>\n",
       "      <td>1.0</td>\n",
       "      <td>0</td>\n",
       "      <td>0</td>\n",
       "      <td>0.0</td>\n",
       "      <td>1</td>\n",
       "    </tr>\n",
       "    <tr>\n",
       "      <th>6</th>\n",
       "      <td>0F0A3576754255009D63151</td>\n",
       "      <td>750899</td>\n",
       "      <td>2013-04-12 09:52:56.147000000</td>\n",
       "      <td>NaN</td>\n",
       "      <td>36</td>\n",
       "      <td>Current</td>\n",
       "      <td>NaN</td>\n",
       "      <td>0.31032</td>\n",
       "      <td>0.2712</td>\n",
       "      <td>0.2612</td>\n",
       "      <td>...</td>\n",
       "      <td>-22.95</td>\n",
       "      <td>0.0</td>\n",
       "      <td>0.0</td>\n",
       "      <td>0.0</td>\n",
       "      <td>0.0</td>\n",
       "      <td>1.0</td>\n",
       "      <td>0</td>\n",
       "      <td>0</td>\n",
       "      <td>0.0</td>\n",
       "      <td>1</td>\n",
       "    </tr>\n",
       "    <tr>\n",
       "      <th>7</th>\n",
       "      <td>0F1035772717087366F9EA7</td>\n",
       "      <td>768193</td>\n",
       "      <td>2013-05-05 06:49:27.493000000</td>\n",
       "      <td>NaN</td>\n",
       "      <td>36</td>\n",
       "      <td>Current</td>\n",
       "      <td>NaN</td>\n",
       "      <td>0.23939</td>\n",
       "      <td>0.2019</td>\n",
       "      <td>0.1919</td>\n",
       "      <td>...</td>\n",
       "      <td>-69.21</td>\n",
       "      <td>0.0</td>\n",
       "      <td>0.0</td>\n",
       "      <td>0.0</td>\n",
       "      <td>0.0</td>\n",
       "      <td>1.0</td>\n",
       "      <td>0</td>\n",
       "      <td>0</td>\n",
       "      <td>0.0</td>\n",
       "      <td>1</td>\n",
       "    </tr>\n",
       "    <tr>\n",
       "      <th>8</th>\n",
       "      <td>0F043596202561788EA13D5</td>\n",
       "      <td>1023355</td>\n",
       "      <td>2013-12-02 10:43:39.117000000</td>\n",
       "      <td>NaN</td>\n",
       "      <td>36</td>\n",
       "      <td>Current</td>\n",
       "      <td>NaN</td>\n",
       "      <td>0.07620</td>\n",
       "      <td>0.0629</td>\n",
       "      <td>0.0529</td>\n",
       "      <td>...</td>\n",
       "      <td>-16.77</td>\n",
       "      <td>0.0</td>\n",
       "      <td>0.0</td>\n",
       "      <td>0.0</td>\n",
       "      <td>0.0</td>\n",
       "      <td>1.0</td>\n",
       "      <td>0</td>\n",
       "      <td>0</td>\n",
       "      <td>0.0</td>\n",
       "      <td>1</td>\n",
       "    </tr>\n",
       "    <tr>\n",
       "      <th>9</th>\n",
       "      <td>0F043596202561788EA13D5</td>\n",
       "      <td>1023355</td>\n",
       "      <td>2013-12-02 10:43:39.117000000</td>\n",
       "      <td>NaN</td>\n",
       "      <td>36</td>\n",
       "      <td>Current</td>\n",
       "      <td>NaN</td>\n",
       "      <td>0.07620</td>\n",
       "      <td>0.0629</td>\n",
       "      <td>0.0529</td>\n",
       "      <td>...</td>\n",
       "      <td>-16.77</td>\n",
       "      <td>0.0</td>\n",
       "      <td>0.0</td>\n",
       "      <td>0.0</td>\n",
       "      <td>0.0</td>\n",
       "      <td>1.0</td>\n",
       "      <td>0</td>\n",
       "      <td>0</td>\n",
       "      <td>0.0</td>\n",
       "      <td>1</td>\n",
       "    </tr>\n",
       "  </tbody>\n",
       "</table>\n",
       "<p>10 rows × 81 columns</p>\n",
       "</div>"
      ],
      "text/plain": [
       "                ListingKey  ListingNumber            ListingCreationDate  \\\n",
       "0  1021339766868145413AB3B         193129  2007-08-26 19:09:29.263000000   \n",
       "1  10273602499503308B223C1        1209647  2014-02-27 08:28:07.900000000   \n",
       "2  0EE9337825851032864889A          81716  2007-01-05 15:00:47.090000000   \n",
       "3  0EF5356002482715299901A         658116  2012-10-22 11:02:35.010000000   \n",
       "4  0F023589499656230C5E3E2         909464  2013-09-14 18:38:39.097000000   \n",
       "5  0F05359734824199381F61D        1074836  2013-12-14 08:26:37.093000000   \n",
       "6  0F0A3576754255009D63151         750899  2013-04-12 09:52:56.147000000   \n",
       "7  0F1035772717087366F9EA7         768193  2013-05-05 06:49:27.493000000   \n",
       "8  0F043596202561788EA13D5        1023355  2013-12-02 10:43:39.117000000   \n",
       "9  0F043596202561788EA13D5        1023355  2013-12-02 10:43:39.117000000   \n",
       "\n",
       "  CreditGrade  Term LoanStatus           ClosedDate  BorrowerAPR  \\\n",
       "0           C    36  Completed  2009-08-14 00:00:00      0.16516   \n",
       "1         NaN    36    Current                  NaN      0.12016   \n",
       "2          HR    36  Completed  2009-12-17 00:00:00      0.28269   \n",
       "3         NaN    36    Current                  NaN      0.12528   \n",
       "4         NaN    36    Current                  NaN      0.24614   \n",
       "5         NaN    60    Current                  NaN      0.15425   \n",
       "6         NaN    36    Current                  NaN      0.31032   \n",
       "7         NaN    36    Current                  NaN      0.23939   \n",
       "8         NaN    36    Current                  NaN      0.07620   \n",
       "9         NaN    36    Current                  NaN      0.07620   \n",
       "\n",
       "   BorrowerRate  LenderYield    ...     LP_ServiceFees  LP_CollectionFees  \\\n",
       "0        0.1580       0.1380    ...            -133.18                0.0   \n",
       "1        0.0920       0.0820    ...               0.00                0.0   \n",
       "2        0.2750       0.2400    ...             -24.20                0.0   \n",
       "3        0.0974       0.0874    ...            -108.01                0.0   \n",
       "4        0.2085       0.1985    ...             -60.27                0.0   \n",
       "5        0.1314       0.1214    ...             -25.33                0.0   \n",
       "6        0.2712       0.2612    ...             -22.95                0.0   \n",
       "7        0.2019       0.1919    ...             -69.21                0.0   \n",
       "8        0.0629       0.0529    ...             -16.77                0.0   \n",
       "9        0.0629       0.0529    ...             -16.77                0.0   \n",
       "\n",
       "   LP_GrossPrincipalLoss  LP_NetPrincipalLoss LP_NonPrincipalRecoverypayments  \\\n",
       "0                    0.0                  0.0                             0.0   \n",
       "1                    0.0                  0.0                             0.0   \n",
       "2                    0.0                  0.0                             0.0   \n",
       "3                    0.0                  0.0                             0.0   \n",
       "4                    0.0                  0.0                             0.0   \n",
       "5                    0.0                  0.0                             0.0   \n",
       "6                    0.0                  0.0                             0.0   \n",
       "7                    0.0                  0.0                             0.0   \n",
       "8                    0.0                  0.0                             0.0   \n",
       "9                    0.0                  0.0                             0.0   \n",
       "\n",
       "   PercentFunded  Recommendations InvestmentFromFriendsCount  \\\n",
       "0            1.0                0                          0   \n",
       "1            1.0                0                          0   \n",
       "2            1.0                0                          0   \n",
       "3            1.0                0                          0   \n",
       "4            1.0                0                          0   \n",
       "5            1.0                0                          0   \n",
       "6            1.0                0                          0   \n",
       "7            1.0                0                          0   \n",
       "8            1.0                0                          0   \n",
       "9            1.0                0                          0   \n",
       "\n",
       "  InvestmentFromFriendsAmount Investors  \n",
       "0                         0.0       258  \n",
       "1                         0.0         1  \n",
       "2                         0.0        41  \n",
       "3                         0.0       158  \n",
       "4                         0.0        20  \n",
       "5                         0.0         1  \n",
       "6                         0.0         1  \n",
       "7                         0.0         1  \n",
       "8                         0.0         1  \n",
       "9                         0.0         1  \n",
       "\n",
       "[10 rows x 81 columns]"
      ]
     },
     "execution_count": 80,
     "metadata": {},
     "output_type": "execute_result"
    }
   ],
   "source": [
    "df = pd.read_csv('prosperLoanData.csv')\n",
    "print(df.shape)\n",
    "print(df.dtypes)\n",
    "df.head(10)"
   ]
  },
  {
   "cell_type": "code",
   "execution_count": 81,
   "metadata": {},
   "outputs": [
    {
     "name": "stdout",
     "output_type": "stream",
     "text": [
      "<class 'pandas.core.frame.DataFrame'>\n",
      "RangeIndex: 113937 entries, 0 to 113936\n",
      "Data columns (total 81 columns):\n",
      "ListingKey                             113937 non-null object\n",
      "ListingNumber                          113937 non-null int64\n",
      "ListingCreationDate                    113937 non-null object\n",
      "CreditGrade                            28953 non-null object\n",
      "Term                                   113937 non-null int64\n",
      "LoanStatus                             113937 non-null object\n",
      "ClosedDate                             55089 non-null object\n",
      "BorrowerAPR                            113912 non-null float64\n",
      "BorrowerRate                           113937 non-null float64\n",
      "LenderYield                            113937 non-null float64\n",
      "EstimatedEffectiveYield                84853 non-null float64\n",
      "EstimatedLoss                          84853 non-null float64\n",
      "EstimatedReturn                        84853 non-null float64\n",
      "ProsperRating (numeric)                84853 non-null float64\n",
      "ProsperRating (Alpha)                  84853 non-null object\n",
      "ProsperScore                           84853 non-null float64\n",
      "ListingCategory (numeric)              113937 non-null int64\n",
      "BorrowerState                          108422 non-null object\n",
      "Occupation                             110349 non-null object\n",
      "EmploymentStatus                       111682 non-null object\n",
      "EmploymentStatusDuration               106312 non-null float64\n",
      "IsBorrowerHomeowner                    113937 non-null bool\n",
      "CurrentlyInGroup                       113937 non-null bool\n",
      "GroupKey                               13341 non-null object\n",
      "DateCreditPulled                       113937 non-null object\n",
      "CreditScoreRangeLower                  113346 non-null float64\n",
      "CreditScoreRangeUpper                  113346 non-null float64\n",
      "FirstRecordedCreditLine                113240 non-null object\n",
      "CurrentCreditLines                     106333 non-null float64\n",
      "OpenCreditLines                        106333 non-null float64\n",
      "TotalCreditLinespast7years             113240 non-null float64\n",
      "OpenRevolvingAccounts                  113937 non-null int64\n",
      "OpenRevolvingMonthlyPayment            113937 non-null float64\n",
      "InquiriesLast6Months                   113240 non-null float64\n",
      "TotalInquiries                         112778 non-null float64\n",
      "CurrentDelinquencies                   113240 non-null float64\n",
      "AmountDelinquent                       106315 non-null float64\n",
      "DelinquenciesLast7Years                112947 non-null float64\n",
      "PublicRecordsLast10Years               113240 non-null float64\n",
      "PublicRecordsLast12Months              106333 non-null float64\n",
      "RevolvingCreditBalance                 106333 non-null float64\n",
      "BankcardUtilization                    106333 non-null float64\n",
      "AvailableBankcardCredit                106393 non-null float64\n",
      "TotalTrades                            106393 non-null float64\n",
      "TradesNeverDelinquent (percentage)     106393 non-null float64\n",
      "TradesOpenedLast6Months                106393 non-null float64\n",
      "DebtToIncomeRatio                      105383 non-null float64\n",
      "IncomeRange                            113937 non-null object\n",
      "IncomeVerifiable                       113937 non-null bool\n",
      "StatedMonthlyIncome                    113937 non-null float64\n",
      "LoanKey                                113937 non-null object\n",
      "TotalProsperLoans                      22085 non-null float64\n",
      "TotalProsperPaymentsBilled             22085 non-null float64\n",
      "OnTimeProsperPayments                  22085 non-null float64\n",
      "ProsperPaymentsLessThanOneMonthLate    22085 non-null float64\n",
      "ProsperPaymentsOneMonthPlusLate        22085 non-null float64\n",
      "ProsperPrincipalBorrowed               22085 non-null float64\n",
      "ProsperPrincipalOutstanding            22085 non-null float64\n",
      "ScorexChangeAtTimeOfListing            18928 non-null float64\n",
      "LoanCurrentDaysDelinquent              113937 non-null int64\n",
      "LoanFirstDefaultedCycleNumber          16952 non-null float64\n",
      "LoanMonthsSinceOrigination             113937 non-null int64\n",
      "LoanNumber                             113937 non-null int64\n",
      "LoanOriginalAmount                     113937 non-null int64\n",
      "LoanOriginationDate                    113937 non-null object\n",
      "LoanOriginationQuarter                 113937 non-null object\n",
      "MemberKey                              113937 non-null object\n",
      "MonthlyLoanPayment                     113937 non-null float64\n",
      "LP_CustomerPayments                    113937 non-null float64\n",
      "LP_CustomerPrincipalPayments           113937 non-null float64\n",
      "LP_InterestandFees                     113937 non-null float64\n",
      "LP_ServiceFees                         113937 non-null float64\n",
      "LP_CollectionFees                      113937 non-null float64\n",
      "LP_GrossPrincipalLoss                  113937 non-null float64\n",
      "LP_NetPrincipalLoss                    113937 non-null float64\n",
      "LP_NonPrincipalRecoverypayments        113937 non-null float64\n",
      "PercentFunded                          113937 non-null float64\n",
      "Recommendations                        113937 non-null int64\n",
      "InvestmentFromFriendsCount             113937 non-null int64\n",
      "InvestmentFromFriendsAmount            113937 non-null float64\n",
      "Investors                              113937 non-null int64\n",
      "dtypes: bool(3), float64(50), int64(11), object(17)\n",
      "memory usage: 68.1+ MB\n"
     ]
    }
   ],
   "source": [
    "df.info()"
   ]
  },
  {
   "cell_type": "code",
   "execution_count": 82,
   "metadata": {},
   "outputs": [
    {
     "data": {
      "text/plain": [
       "(10.01, 0.0)"
      ]
     },
     "execution_count": 82,
     "metadata": {},
     "output_type": "execute_result"
    }
   ],
   "source": [
    "df['DebtToIncomeRatio'].max(),df['DebtToIncomeRatio'].min()"
   ]
  },
  {
   "cell_type": "code",
   "execution_count": 139,
   "metadata": {},
   "outputs": [
    {
     "data": {
      "text/plain": [
       " 0.12460    2160\n",
       " 0.14870    1062\n",
       " 0.06910     760\n",
       " 0.14140     722\n",
       " 0.10740     648\n",
       " 0.11500     589\n",
       " 0.07713     565\n",
       " 0.06706     556\n",
       " 0.09050     534\n",
       " 0.06499     528\n",
       " 0.07408     518\n",
       " 0.08284     514\n",
       " 0.06970     509\n",
       " 0.10390     506\n",
       " 0.07344     504\n",
       " 0.07077     472\n",
       " 0.07820     470\n",
       " 0.06388     468\n",
       " 0.08529     465\n",
       " 0.11100     461\n",
       " 0.10256     454\n",
       " 0.12710     449\n",
       " 0.07517     449\n",
       " 0.14420     446\n",
       " 0.11470     445\n",
       " 0.07824     439\n",
       " 0.06080     438\n",
       " 0.07192     435\n",
       " 0.08780     431\n",
       " 0.11240     424\n",
       "            ... \n",
       " 0.12040       1\n",
       " 0.22110       1\n",
       " 0.19610       1\n",
       " 0.19530       1\n",
       " 0.15690       1\n",
       " 0.18380       1\n",
       "-0.02430       1\n",
       " 0.11020       1\n",
       " 0.06560       1\n",
       " 0.03720       1\n",
       " 0.17250       1\n",
       " 0.02660       1\n",
       " 0.15200       1\n",
       " 0.17490       1\n",
       " 0.08260       1\n",
       " 0.04470       1\n",
       " 0.17320       1\n",
       " 0.16870       1\n",
       "-0.02660       1\n",
       "-0.12570       1\n",
       "-0.04700       1\n",
       " 0.17240       1\n",
       "-0.00160       1\n",
       " 0.14070       1\n",
       " 0.08830       1\n",
       " 0.08450       1\n",
       " 0.19100       1\n",
       " 0.06340       1\n",
       "-0.00310       1\n",
       " 0.15770       1\n",
       "Name: EstimatedReturn, Length: 1469, dtype: int64"
      ]
     },
     "execution_count": 139,
     "metadata": {},
     "output_type": "execute_result"
    }
   ],
   "source": [
    "#df['CreditScoreRangeLower'].value_counts()\n",
    "df['LenderYield'].value_counts()\n",
    "df['EstimatedReturn'].value_counts()"
   ]
  },
  {
   "cell_type": "code",
   "execution_count": 108,
   "metadata": {},
   "outputs": [],
   "source": [
    "df['LoanStatus']= df['LoanStatus'].astype('category')\n",
    "df['ClosedDate'] = pd.to_datetime(df['ClosedDate'])\n",
    "ordinal_var = { 'CreditScoreRangeUpper': np.arange(19.0,900.0),\n",
    "                'CreditScoreRangeLower': np.arange(0.0,881.0),\n",
    "                'ProsperRating (Alpha)': ['HR','E','D','C','B','A','AA'],\n",
    "                'ProsperScore': [1.0,2.0,3.0,4.0,5.0,6.0,7.0,8.0,9.0,10.0,11.0],\n",
    "                'ProsperRating (numeric)':[1.0,2.0,3.0,4.0,5.0,6.0,7.0]\n",
    "                }\n",
    "\n",
    "for var in ordinal_var:\n",
    "    ordered_var = pd.api.types.CategoricalDtype(ordered = True, categories = ordinal_var[var])\n",
    "    df[var] = df[var].astype(ordered_var)"
   ]
  },
  {
   "cell_type": "markdown",
   "metadata": {},
   "source": [
    "### What is the structure of your dataset?\n",
    "\n",
    "> There are 113937 entries with 81 features in the dataset.This is a huge dataset in terms of scale and will be a challenge to analyze. Most variables in the dataset are numeric and floats as they deal with loan amounts, principal, interest and other loan related amounts including calculation of profit loss for Prosper and other metrics to keep track of the loan payments. The variables below are categorical and describe qualitative details of the debtor and qualitative details of the loan:\n",
    "\n",
    "Debtor: LoanStatus, IncomeVerifiable,ProsperRating (numeric), ProsperRating (alpha), ProsperScore,CreditScoreRangeUpper\n",
    "\n",
    "\n",
    "### What is/are the main feature(s) of interest in your dataset?\n",
    "\n",
    "> I am interested in analyzing how the credit assessments made by Prosper impact the loan repayment. Also what factors impact the ability to pay the loans the most. \n",
    "> A secondary analysis can be related to performance of Propser in terms of their profit\n",
    "\n",
    "### What features in the dataset do you think will help support your investigation into your feature(s) of interest?\n",
    "\n",
    "> IncomeVerifiable,ProsperRating (numeric), ProsperRating (alpha), ProsperScore,DebtToIncomeRatio,IncomeRange\n",
    "TotalProsperLoans, ProsperPrincipalBorrowed,ProsperPrincipalOutstanding, LoanCurrentDaysDelinquent,  LoanOriginalAmount                          \n",
    "> EstimatedEffectiveYield\n",
    "EstimatedLoss\n",
    "EstimatedReturn, LP_GrossPrincipalLoss LP_NonPrincipalRecoverypayments"
   ]
  },
  {
   "cell_type": "markdown",
   "metadata": {},
   "source": [
    "## Univariate Exploration\n",
    "\n",
    "> In this section, investigate distributions of individual variables. If\n",
    "you see unusual points or outliers, take a deeper look to clean things up\n",
    "and prepare yourself to look at relationships between variables."
   ]
  },
  {
   "cell_type": "code",
   "execution_count": 85,
   "metadata": {},
   "outputs": [
    {
     "data": {
      "text/plain": [
       "<matplotlib.axes._subplots.AxesSubplot at 0x19c6c55b518>"
      ]
     },
     "execution_count": 85,
     "metadata": {},
     "output_type": "execute_result"
    },
    {
     "data": {
      "image/png": "[encoded data removed]",
      "text/plain": [
       "<Figure size 432x288 with 1 Axes>"
      ]
     },
     "metadata": {
      "needs_background": "light"
     },
     "output_type": "display_data"
    }
   ],
   "source": [
    "binsize = 10\n",
    "base = sb.color_palette()[4]\n",
    "\n",
    "#plt.figure(figsize=[8, 5])\n",
    "sb.countplot(data = df, y = 'IncomeRange', color = base, order = df['IncomeRange'].value_counts().index)\n",
    "#plt.xticks(rotation= 90)"
   ]
  },
  {
   "cell_type": "markdown",
   "metadata": {},
   "source": [
    "This plot shows that the highest loans are taken out by people in the middle income distribution. Except a few outliers that have 0 income majority of the loans are to income group of 25k-75k and it dwindles at higher values which means that middle class earners need more loans."
   ]
  },
  {
   "cell_type": "code",
   "execution_count": 86,
   "metadata": {
    "scrolled": true
   },
   "outputs": [
    {
     "data": {
      "text/plain": [
       "(0, 2)"
      ]
     },
     "execution_count": 86,
     "metadata": {},
     "output_type": "execute_result"
    },
    {
     "data": {
      "image/png": "[encoded data removed]",
      "text/plain": [
       "<Figure size 432x288 with 1 Axes>"
      ]
     },
     "metadata": {
      "needs_background": "light"
     },
     "output_type": "display_data"
    }
   ],
   "source": [
    "fig = plt.figure()\n",
    "\n",
    "\n",
    "bin_s = np.arange(0,df.DebtToIncomeRatio.max()+0.15, 0.15)\n",
    "plt.hist(data = df, x = 'DebtToIncomeRatio', bins = bin_s)\n",
    "plt.xlim(0,2)"
   ]
  },
  {
   "cell_type": "markdown",
   "metadata": {},
   "source": [
    "#### > There are 200 odd values of debt to income ratio which are over 10 which were skewing the plot. It is clear that majority of the borrowers range from 0 to 0.4 debt to income ratio. There are very few count of loans given to clients with debt ratio higher than 2 but even if we consider the 100 additional borrowers between 2 and 3, the biggest anomaly is debt to ratio of 10.01 for 272 candidates. This seems like an anomaly that should be removed"
   ]
  },
  {
   "cell_type": "code",
   "execution_count": 87,
   "metadata": {},
   "outputs": [],
   "source": [
    "#Exporting to csv to investigate and remove\n",
    "dfd = df[df['DebtToIncomeRatio']>= 2]\n",
    "dfd.to_csv('DebttoincomeOutliers.csv', index = False)"
   ]
  },
  {
   "cell_type": "markdown",
   "metadata": {},
   "source": [
    "> "
   ]
  },
  {
   "cell_type": "code",
   "execution_count": 88,
   "metadata": {},
   "outputs": [
    {
     "data": {
      "text/plain": [
       "(array([ 2169.,   930.,  2154.,  3728.,  6172.,  9510.,  9382.,  8731.,\n",
       "        10227.,  7371.,  9440.,  5757.,  5940.,  5083.,  3722.,  4061.,\n",
       "         3375.,  1987.,  1913.,  1223.,  2394.,   991.,   797.,   823.,\n",
       "          489.,  1092.,   510.,   326.,   299.,   300.,   476.,   179.,\n",
       "          133.,   422.,   161.]),\n",
       " array([    0.,   500.,  1000.,  1500.,  2000.,  2500.,  3000.,  3500.,\n",
       "         4000.,  4500.,  5000.,  5500.,  6000.,  6500.,  7000.,  7500.,\n",
       "         8000.,  8500.,  9000.,  9500., 10000., 10500., 11000., 11500.,\n",
       "        12000., 12500., 13000., 13500., 14000., 14500., 15000., 15500.,\n",
       "        16000., 16500., 17000., 17500.]),\n",
       " <a list of 35 Patch objects>)"
      ]
     },
     "execution_count": 88,
     "metadata": {},
     "output_type": "execute_result"
    },
    {
     "data": {
      "image/png": "[encoded data removed]",
      "text/plain": [
       "<Figure size 432x288 with 1 Axes>"
      ]
     },
     "metadata": {
      "needs_background": "light"
     },
     "output_type": "display_data"
    }
   ],
   "source": [
    "#Based on the above exploration it makes sense to analyze the monthly income stats\n",
    "bin_size = np.arange(dfd.StatedMonthlyIncome.min(), dfd.StatedMonthlyIncome.max()+500, 500)\n",
    "plt.hist(data = df, x = 'StatedMonthlyIncome', bins = bin_size)"
   ]
  },
  {
   "cell_type": "markdown",
   "metadata": {},
   "source": [
    "Surprisingly most of the data with a monthly income of 0 seems to be accurate but it maybe safer to drop all data with  <1 StatedMonthly income and the income is unverified.\n",
    "Binning  is a surprisingly effective method and really defines the visualization in a big, 500 seems to work great here but 200 produces thin spikes"
   ]
  },
  {
   "cell_type": "code",
   "execution_count": 91,
   "metadata": {},
   "outputs": [
    {
     "name": "stdout",
     "output_type": "stream",
     "text": [
      "<class 'pandas.core.frame.DataFrame'>\n",
      "Int64Index: 112607 entries, 0 to 113936\n",
      "Data columns (total 81 columns):\n",
      "ListingKey                             112607 non-null object\n",
      "ListingNumber                          112607 non-null int64\n",
      "ListingCreationDate                    112607 non-null object\n",
      "CreditGrade                            28306 non-null object\n",
      "Term                                   112607 non-null int64\n",
      "LoanStatus                             112607 non-null category\n",
      "ClosedDate                             54046 non-null datetime64[ns]\n",
      "BorrowerAPR                            112582 non-null float64\n",
      "BorrowerRate                           112607 non-null float64\n",
      "LenderYield                            112607 non-null float64\n",
      "EstimatedEffectiveYield                84170 non-null float64\n",
      "EstimatedLoss                          84170 non-null float64\n",
      "EstimatedReturn                        84170 non-null float64\n",
      "ProsperRating (numeric)                84170 non-null category\n",
      "ProsperRating (Alpha)                  84170 non-null category\n",
      "ProsperScore                           84170 non-null category\n",
      "ListingCategory (numeric)              112607 non-null int64\n",
      "BorrowerState                          107138 non-null object\n",
      "Occupation                             109032 non-null object\n",
      "EmploymentStatus                       110365 non-null object\n",
      "EmploymentStatusDuration               105029 non-null float64\n",
      "IsBorrowerHomeowner                    112607 non-null bool\n",
      "CurrentlyInGroup                       112607 non-null bool\n",
      "GroupKey                               13153 non-null object\n",
      "DateCreditPulled                       112607 non-null object\n",
      "CreditScoreRangeLower                  112022 non-null float64\n",
      "CreditScoreRangeUpper                  111995 non-null category\n",
      "FirstRecordedCreditLine                111920 non-null object\n",
      "CurrentCreditLines                     105049 non-null float64\n",
      "OpenCreditLines                        105049 non-null float64\n",
      "TotalCreditLinespast7years             111920 non-null float64\n",
      "OpenRevolvingAccounts                  112607 non-null int64\n",
      "OpenRevolvingMonthlyPayment            112607 non-null float64\n",
      "InquiriesLast6Months                   111920 non-null float64\n",
      "TotalInquiries                         111460 non-null float64\n",
      "CurrentDelinquencies                   111920 non-null float64\n",
      "AmountDelinquent                       105034 non-null float64\n",
      "DelinquenciesLast7Years                111629 non-null float64\n",
      "PublicRecordsLast10Years               111920 non-null float64\n",
      "PublicRecordsLast12Months              105049 non-null float64\n",
      "RevolvingCreditBalance                 105049 non-null float64\n",
      "BankcardUtilization                    105049 non-null float64\n",
      "AvailableBankcardCredit                105109 non-null float64\n",
      "TotalTrades                            105109 non-null float64\n",
      "TradesNeverDelinquent (percentage)     105109 non-null float64\n",
      "TradesOpenedLast6Months                105109 non-null float64\n",
      "DebtToIncomeRatio                      105369 non-null float64\n",
      "IncomeRange                            112607 non-null object\n",
      "IncomeVerifiable                       112607 non-null bool\n",
      "StatedMonthlyIncome                    112607 non-null float64\n",
      "LoanKey                                112607 non-null object\n",
      "TotalProsperLoans                      21893 non-null float64\n",
      "TotalProsperPaymentsBilled             21893 non-null float64\n",
      "OnTimeProsperPayments                  21893 non-null float64\n",
      "ProsperPaymentsLessThanOneMonthLate    21893 non-null float64\n",
      "ProsperPaymentsOneMonthPlusLate        21893 non-null float64\n",
      "ProsperPrincipalBorrowed               21893 non-null float64\n",
      "ProsperPrincipalOutstanding            21893 non-null float64\n",
      "ScorexChangeAtTimeOfListing            18737 non-null float64\n",
      "LoanCurrentDaysDelinquent              112607 non-null int64\n",
      "LoanFirstDefaultedCycleNumber          16540 non-null float64\n",
      "LoanMonthsSinceOrigination             112607 non-null int64\n",
      "LoanNumber                             112607 non-null int64\n",
      "LoanOriginalAmount                     112607 non-null int64\n",
      "LoanOriginationDate                    112607 non-null object\n",
      "LoanOriginationQuarter                 112607 non-null object\n",
      "MemberKey                              112607 non-null object\n",
      "MonthlyLoanPayment                     112607 non-null float64\n",
      "LP_CustomerPayments                    112607 non-null float64\n",
      "LP_CustomerPrincipalPayments           112607 non-null float64\n",
      "LP_InterestandFees                     112607 non-null float64\n",
      "LP_ServiceFees                         112607 non-null float64\n",
      "LP_CollectionFees                      112607 non-null float64\n",
      "LP_GrossPrincipalLoss                  112607 non-null float64\n",
      "LP_NetPrincipalLoss                    112607 non-null float64\n",
      "LP_NonPrincipalRecoverypayments        112607 non-null float64\n",
      "PercentFunded                          112607 non-null float64\n",
      "Recommendations                        112607 non-null int64\n",
      "InvestmentFromFriendsCount             112607 non-null int64\n",
      "InvestmentFromFriendsAmount            112607 non-null float64\n",
      "Investors                              112607 non-null int64\n",
      "dtypes: bool(3), category(5), datetime64[ns](1), float64(47), int64(11), object(14)\n",
      "memory usage: 64.6+ MB\n"
     ]
    }
   ],
   "source": [
    "df_mi = df[~((df['StatedMonthlyIncome']== 0) & (df['IncomeVerifiable']== False))]\n",
    "df_mi.info()"
   ]
  },
  {
   "cell_type": "code",
   "execution_count": 92,
   "metadata": {},
   "outputs": [
    {
     "name": "stdout",
     "output_type": "stream",
     "text": [
      "<class 'pandas.core.frame.DataFrame'>\n",
      "Int64Index: 112375 entries, 0 to 113936\n",
      "Data columns (total 81 columns):\n",
      "ListingKey                             112375 non-null object\n",
      "ListingNumber                          112375 non-null int64\n",
      "ListingCreationDate                    112375 non-null object\n",
      "CreditGrade                            28079 non-null object\n",
      "Term                                   112375 non-null int64\n",
      "LoanStatus                             112375 non-null category\n",
      "ClosedDate                             53816 non-null datetime64[ns]\n",
      "BorrowerAPR                            112350 non-null float64\n",
      "BorrowerRate                           112375 non-null float64\n",
      "LenderYield                            112375 non-null float64\n",
      "EstimatedEffectiveYield                84165 non-null float64\n",
      "EstimatedLoss                          84165 non-null float64\n",
      "EstimatedReturn                        84165 non-null float64\n",
      "ProsperRating (numeric)                84165 non-null category\n",
      "ProsperRating (Alpha)                  84165 non-null category\n",
      "ProsperScore                           84165 non-null category\n",
      "ListingCategory (numeric)              112375 non-null int64\n",
      "BorrowerState                          106991 non-null object\n",
      "Occupation                             108826 non-null object\n",
      "EmploymentStatus                       110159 non-null object\n",
      "EmploymentStatusDuration               104866 non-null float64\n",
      "IsBorrowerHomeowner                    112375 non-null bool\n",
      "CurrentlyInGroup                       112375 non-null bool\n",
      "GroupKey                               12998 non-null object\n",
      "DateCreditPulled                       112375 non-null object\n",
      "CreditScoreRangeLower                  111797 non-null float64\n",
      "CreditScoreRangeUpper                  111770 non-null category\n",
      "FirstRecordedCreditLine                111701 non-null object\n",
      "CurrentCreditLines                     104886 non-null float64\n",
      "OpenCreditLines                        104886 non-null float64\n",
      "TotalCreditLinespast7years             111701 non-null float64\n",
      "OpenRevolvingAccounts                  112375 non-null int64\n",
      "OpenRevolvingMonthlyPayment            112375 non-null float64\n",
      "InquiriesLast6Months                   111701 non-null float64\n",
      "TotalInquiries                         111244 non-null float64\n",
      "CurrentDelinquencies                   111701 non-null float64\n",
      "AmountDelinquent                       104873 non-null float64\n",
      "DelinquenciesLast7Years                111415 non-null float64\n",
      "PublicRecordsLast10Years               111701 non-null float64\n",
      "PublicRecordsLast12Months              104886 non-null float64\n",
      "RevolvingCreditBalance                 104886 non-null float64\n",
      "BankcardUtilization                    104886 non-null float64\n",
      "AvailableBankcardCredit                104945 non-null float64\n",
      "TotalTrades                            104945 non-null float64\n",
      "TradesNeverDelinquent (percentage)     104945 non-null float64\n",
      "TradesOpenedLast6Months                104945 non-null float64\n",
      "DebtToIncomeRatio                      105151 non-null float64\n",
      "IncomeRange                            112375 non-null object\n",
      "IncomeVerifiable                       112375 non-null bool\n",
      "StatedMonthlyIncome                    112375 non-null float64\n",
      "LoanKey                                112375 non-null object\n",
      "TotalProsperLoans                      21882 non-null float64\n",
      "TotalProsperPaymentsBilled             21882 non-null float64\n",
      "OnTimeProsperPayments                  21882 non-null float64\n",
      "ProsperPaymentsLessThanOneMonthLate    21882 non-null float64\n",
      "ProsperPaymentsOneMonthPlusLate        21882 non-null float64\n",
      "ProsperPrincipalBorrowed               21882 non-null float64\n",
      "ProsperPrincipalOutstanding            21882 non-null float64\n",
      "ScorexChangeAtTimeOfListing            18726 non-null float64\n",
      "LoanCurrentDaysDelinquent              112375 non-null int64\n",
      "LoanFirstDefaultedCycleNumber          16444 non-null float64\n",
      "LoanMonthsSinceOrigination             112375 non-null int64\n",
      "LoanNumber                             112375 non-null int64\n",
      "LoanOriginalAmount                     112375 non-null int64\n",
      "LoanOriginationDate                    112375 non-null object\n",
      "LoanOriginationQuarter                 112375 non-null object\n",
      "MemberKey                              112375 non-null object\n",
      "MonthlyLoanPayment                     112375 non-null float64\n",
      "LP_CustomerPayments                    112375 non-null float64\n",
      "LP_CustomerPrincipalPayments           112375 non-null float64\n",
      "LP_InterestandFees                     112375 non-null float64\n",
      "LP_ServiceFees                         112375 non-null float64\n",
      "LP_CollectionFees                      112375 non-null float64\n",
      "LP_GrossPrincipalLoss                  112375 non-null float64\n",
      "LP_NetPrincipalLoss                    112375 non-null float64\n",
      "LP_NonPrincipalRecoverypayments        112375 non-null float64\n",
      "PercentFunded                          112375 non-null float64\n",
      "Recommendations                        112375 non-null int64\n",
      "InvestmentFromFriendsCount             112375 non-null int64\n",
      "InvestmentFromFriendsAmount            112375 non-null float64\n",
      "Investors                              112375 non-null int64\n",
      "dtypes: bool(3), category(5), datetime64[ns](1), float64(47), int64(11), object(14)\n",
      "memory usage: 64.5+ MB\n"
     ]
    }
   ],
   "source": [
    "# Removing all stated income below 1$ that is not verifiable\n",
    "df = df[~((df['StatedMonthlyIncome']< 1) & (df['IncomeVerifiable']==False))]\n",
    "df.info()"
   ]
  },
  {
   "cell_type": "code",
   "execution_count": 104,
   "metadata": {},
   "outputs": [
    {
     "data": {
      "text/plain": [
       "([<matplotlib.axis.XTick at 0x19c6ac5fe48>,\n",
       "  <matplotlib.axis.XTick at 0x19c6ac5f780>,\n",
       "  <matplotlib.axis.XTick at 0x19c6ae908d0>,\n",
       "  <matplotlib.axis.XTick at 0x19c6a824240>,\n",
       "  <matplotlib.axis.XTick at 0x19c6a81d0b8>,\n",
       "  <matplotlib.axis.XTick at 0x19c6a82b9b0>,\n",
       "  <matplotlib.axis.XTick at 0x19c6a82beb8>],\n",
       " <a list of 7 Text xticklabel objects>)"
      ]
     },
     "execution_count": 104,
     "metadata": {},
     "output_type": "execute_result"
    },
    {
     "data": {
      "image/png": "[encoded data removed]",
      "text/plain": [
       "<Figure size 432x288 with 1 Axes>"
      ]
     },
     "metadata": {
      "needs_background": "light"
     },
     "output_type": "display_data"
    }
   ],
   "source": [
    "#bin_s = np.arange(df.LoanOriginalAmount.min(),df.LoanOriginalAmount.max()+1000, 1000)\n",
    "#fig, ax = plt.subplots(nrows = 3, figsize = [8,8])\n",
    "\n",
    "default_color = sb.color_palette()[0]\n",
    "sb.countplot(data = df, y = 'LoanStatus', color = default_color)\n",
    "plt.xticks(x_ticks,rotation = 20)"
   ]
  },
  {
   "cell_type": "markdown",
   "metadata": {},
   "source": [
    "> This is a great portfolio of loans as it seems that most of the loans are current and completed and the number of default loans is less than 5000 out of 110000"
   ]
  },
  {
   "cell_type": "code",
   "execution_count": 137,
   "metadata": {},
   "outputs": [
    {
     "data": {
      "image/png": "[encoded data removed]",
      "text/plain": [
       "<Figure size 576x576 with 2 Axes>"
      ]
     },
     "metadata": {
      "needs_background": "light"
     },
     "output_type": "display_data"
    }
   ],
   "source": [
    "fig, ax = plt.subplots(nrows=2, figsize = [8,8])\n",
    "\n",
    "variables = ['CreditScoreRangeLower','CreditScoreRangeUpper']\n",
    "for i in range(len(variables)):\n",
    "    var = variables[i]\n",
    "    bin_s = np.arange(min(df[var]), max(df[var])+25, 25)\n",
    "    ax[i].hist(data = df, x =var, bins = bin_s)\n",
    "    ax[i].set_xlabel('{}'.format(var))"
   ]
  },
  {
   "cell_type": "markdown",
   "metadata": {},
   "source": [
    "The creditscore plot shows that majority of the loan applicants are between 600 to 8000 credit score range. This lies in the good to excellent category of credit risk which means that the loans are given out after performing these checks."
   ]
  },
  {
   "cell_type": "code",
   "execution_count": 157,
   "metadata": {},
   "outputs": [
    {
     "data": {
      "text/plain": [
       "(array([0.0000e+00, 0.0000e+00, 0.0000e+00, 0.0000e+00, 0.0000e+00,\n",
       "        1.1000e+01, 2.5000e+01, 1.5780e+03, 8.7750e+03, 1.4554e+04,\n",
       "        1.7288e+04, 1.6122e+04, 1.4160e+04, 9.9460e+03, 1.1314e+04,\n",
       "        7.4090e+03]),\n",
       " array([-0.1827, -0.1527, -0.1227, -0.0927, -0.0627, -0.0327, -0.0027,\n",
       "         0.0273,  0.0573,  0.0873,  0.1173,  0.1473,  0.1773,  0.2073,\n",
       "         0.2373,  0.2673,  0.2973]),\n",
       " <a list of 16 Patch objects>)"
      ]
     },
     "execution_count": 157,
     "metadata": {},
     "output_type": "execute_result"
    },
    {
     "data": {
      "image/png": "[encoded data removed]",
      "text/plain": [
       "<Figure size 432x288 with 1 Axes>"
      ]
     },
     "metadata": {
      "needs_background": "light"
     },
     "output_type": "display_data"
    }
   ],
   "source": [
    "bin_s = np.arange(df.EstimatedReturn.min(),df.EstimatedReturn.max()+0.03, 0.03)\n",
    "plt.hist(data =df, x='LenderYield', bins = bin_s)"
   ]
  },
  {
   "cell_type": "markdown",
   "metadata": {},
   "source": [
    "> It can be seen from the plot of the estimated return that the margin on the loans ranges between 0.1 to 0.3 for the lender"
   ]
  },
  {
   "cell_type": "code",
   "execution_count": 162,
   "metadata": {},
   "outputs": [
    {
     "data": {
      "text/plain": [
       "(array([6.2550e+03, 1.1132e+04, 1.0089e+04, 1.6514e+04, 8.4530e+03,\n",
       "        4.9930e+03, 6.4020e+03, 3.8790e+03, 2.8920e+03, 1.1659e+04,\n",
       "        1.5160e+03, 2.5350e+03, 1.9360e+03, 9.5300e+02, 1.2512e+04,\n",
       "        4.5300e+02, 6.3900e+02, 6.4300e+02, 4.3200e+02, 3.3340e+03,\n",
       "        1.9400e+02, 2.8400e+02, 1.8100e+02, 2.4200e+02, 3.5760e+03,\n",
       "        1.4000e+01, 2.2000e+01, 2.6000e+01, 2.0000e+00, 1.1100e+02,\n",
       "        2.4000e+01, 2.7000e+01, 1.1000e+01, 4.4000e+02]),\n",
       " array([ 1000,  2000,  3000,  4000,  5000,  6000,  7000,  8000,  9000,\n",
       "        10000, 11000, 12000, 13000, 14000, 15000, 16000, 17000, 18000,\n",
       "        19000, 20000, 21000, 22000, 23000, 24000, 25000, 26000, 27000,\n",
       "        28000, 29000, 30000, 31000, 32000, 33000, 34000, 35000],\n",
       "       dtype=int64),\n",
       " <a list of 34 Patch objects>)"
      ]
     },
     "execution_count": 162,
     "metadata": {},
     "output_type": "execute_result"
    },
    {
     "data": {
      "image/png": "[encoded data removed]",
      "text/plain": [
       "<Figure size 432x288 with 1 Axes>"
      ]
     },
     "metadata": {
      "needs_background": "light"
     },
     "output_type": "display_data"
    }
   ],
   "source": [
    "bin_s = np.arange(df.LoanOriginalAmount.min(),df.LoanOriginalAmount.max()+1000,1000)\n",
    "plt.hist(data =df, x='LoanOriginalAmount', bins = bin_s)"
   ]
  },
  {
   "cell_type": "markdown",
   "metadata": {},
   "source": [
    "> The plot for the original loan shows in terms of count the lower amount loans outnumber the loans at ahigher amounts. Also some of the spikes observed for round figures are quite expected as people tend to borrow in round figure amounts."
   ]
  },
  {
   "cell_type": "markdown",
   "metadata": {},
   "source": [
    "### Discuss the distribution(s) of your variable(s) of interest. Were there any unusual points? Did you need to perform any transformations?\n",
    "\n",
    "> The overall distributions of the variables used to provide loans are as expected. The only anomalies found were in the debt to income ratio where some of the outlier were over 10 which were quite, the action taken was to delete the records that did not have a verifiable montly income as debt to income ratio is calculated based on the monthly income.\n",
    "\n",
    "### Of the features you investigated, were there any unusual distributions? Did you perform any operations on the data to tidy, adjust, or change the form of the data? If so, why did you do this?\n",
    "\n",
    "> There are a total of 81 features to be investigated, I have picked the ones that may be used to decide the outcome of the loan and may help decide if the loan maybe defaulted on. No feature seems to be useless outright, initially the GradeScore variable seemed low in number but a quick viewing showed that it is useful for variables where the prosper rating is not available. Some of the features dealing with credit score and the borrower history were not set as categorical data and changes had to be made to produce accurate plots. A lot of ordinal variables were set including credit score which helped in assessing the data."
   ]
  },
  {
   "cell_type": "markdown",
   "metadata": {},
   "source": [
    "## Bivariate Exploration\n",
    "\n",
    "> In this section, investigate relationships between pairs of variables in your\n",
    "data. Make sure the variables that you cover here have been introduced in some\n",
    "fashion in the previous section (univariate exploration)."
   ]
  },
  {
   "cell_type": "code",
   "execution_count": 164,
   "metadata": {},
   "outputs": [],
   "source": [
    "numeric_vars = ['LoanOriginalAmount','LenderYield','DebtToIncomeRatio','StatedMonthlyIncome']\n",
    "categorical_vars = ['CreditScoreRangeLower','CreditScoreRangeUpper','IncomeRange','LoanStatus']"
   ]
  },
  {
   "cell_type": "code",
   "execution_count": 165,
   "metadata": {},
   "outputs": [
    {
     "data": {
      "image/png": "[encoded data removed]",
      "text/plain": [
       "<Figure size 576x360 with 2 Axes>"
      ]
     },
     "metadata": {
      "needs_background": "light"
     },
     "output_type": "display_data"
    }
   ],
   "source": [
    "plt.figure(figsize=[8,5])\n",
    "sb.heatmap(df[numeric_vars].corr(),annot=True, fmt = '.3f',\n",
    "           cmap= 'vlag_r', center = 0)\n",
    "plt.show()"
   ]
  },
  {
   "cell_type": "code",
   "execution_count": null,
   "metadata": {},
   "outputs": [],
   "source": []
  },
  {
   "cell_type": "markdown",
   "metadata": {},
   "source": [
    "### Talk about some of the relationships you observed in this part of the investigation. How did the feature(s) of interest vary with other features in the dataset?\n",
    "\n",
    "> Your answer here!\n",
    "\n",
    "### Did you observe any interesting relationships between the other features (not the main feature(s) of interest)?\n",
    "\n",
    "> Your answer here!"
   ]
  },
  {
   "cell_type": "markdown",
   "metadata": {},
   "source": [
    "## Multivariate Exploration\n",
    "\n",
    "> Create plots of three or more variables to investigate your data even\n",
    "further. Make sure that your investigations are justified, and follow from\n",
    "your work in the previous sections."
   ]
  },
  {
   "cell_type": "code",
   "execution_count": null,
   "metadata": {},
   "outputs": [],
   "source": []
  },
  {
   "cell_type": "markdown",
   "metadata": {},
   "source": [
    "### Talk about some of the relationships you observed in this part of the investigation. Were there features that strengthened each other in terms of looking at your feature(s) of interest?\n",
    "\n",
    "> Your answer here!\n",
    "\n",
    "### Were there any interesting or surprising interactions between features?\n",
    "\n",
    "> Your answer here!"
   ]
  },
  {
   "cell_type": "markdown",
   "metadata": {},
   "source": [
    "> At the end of your report, make sure that you export the notebook as an\n",
    "html file from the `File > Download as... > HTML` menu. Make sure you keep\n",
    "track of where the exported file goes, so you can put it in the same folder\n",
    "as this notebook for project submission. Also, make sure you remove all of\n",
    "the quote-formatted guide notes like this one before you finish your report!"
   ]
  },
  {
   "cell_type": "code",
   "execution_count": null,
   "metadata": {},
   "outputs": [],
   "source": []
  }
 ],
 "metadata": {
  "kernelspec": {
   "display_name": "Python 3",
   "language": "python",
   "name": "python3"
  },
  "language_info": {
   "codemirror_mode": {
    "name": "ipython",
    "version": 3
   },
   "file_extension": ".py",
   "mimetype": "text/x-python",
   "name": "python",
   "nbconvert_exporter": "python",
   "pygments_lexer": "ipython3",
   "version": "3.7.0"
  }
 },
 "nbformat": 4,
 "nbformat_minor": 2
}
